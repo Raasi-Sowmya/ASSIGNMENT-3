{
 "cells": [
  {
   "cell_type": "code",
   "execution_count": 1,
   "id": "94a6ef4c",
   "metadata": {},
   "outputs": [
    {
     "name": "stdout",
     "output_type": "stream",
     "text": [
      "2\n",
      "3\n",
      "8\n"
     ]
    }
   ],
   "source": [
    "#finding power using RECURSION  (ASSIGNMENT-I)\n",
    "base=int(input())\n",
    "exponent=int(input())\n",
    "def power(base,exponent):\n",
    "    if exponent==0:\n",
    "        return 1\n",
    "    elif exponent>0:\n",
    "        return base*power(base,exponent-1)\n",
    "    else:\n",
    "        return 1/power(base,-exponent)\n",
    "print(power(base,exponent))"
   ]
  },
  {
   "cell_type": "code",
   "execution_count": null,
   "id": "373d3382",
   "metadata": {},
   "outputs": [],
   "source": []
  },
  {
   "cell_type": "code",
   "execution_count": 2,
   "id": "f5849035",
   "metadata": {},
   "outputs": [
    {
     "name": "stdout",
     "output_type": "stream",
     "text": [
      "10\n"
     ]
    }
   ],
   "source": [
    "#sum of given data or elements using RECURSION (ASSIGNMENT-II)\n",
    "x=[1,2,3,4]\n",
    "def sumOfArray(x,y):\n",
    "    if y==1:\n",
    "        return x[0]\n",
    "    else:\n",
    "        return x[0]+sumOfArray(x[1:],y-1)\n",
    "print(sumOfArray(x,len(x)))"
   ]
  },
  {
   "cell_type": "code",
   "execution_count": 3,
   "id": "c60ae96f",
   "metadata": {},
   "outputs": [
    {
     "name": "stdout",
     "output_type": "stream",
     "text": [
      "True\n",
      "False\n"
     ]
    }
   ],
   "source": [
    "#to find element is present or not using RECURSION\n",
    "def ListElement(x,y):\n",
    "    if x==[]:\n",
    "        return False\n",
    "    elif x[0]==y:\n",
    "        return True\n",
    "    else:\n",
    "        return ListElement(x[1:],y)\n",
    "print(ListElement([1,2,3],1))\n",
    "print(ListElement([5,6,7,8],9))"
   ]
  },
  {
   "cell_type": "code",
   "execution_count": 4,
   "id": "b8bb539c",
   "metadata": {},
   "outputs": [],
   "source": []
  },
  {
   "cell_type": "code",
   "execution_count": 4,
   "id": "3b259aa1",
   "metadata": {},
   "outputs": [
    {
     "name": "stdout",
     "output_type": "stream",
     "text": [
      "0\n"
     ]
    }
   ],
   "source": [
    "#to print index number of first occurence (ASSIGNMENT-III)\n",
    "a=[9,8,7,6,5,4,3,2,1]\n",
    "def firstIndex(a,x,si):\n",
    "    l=len(a)\n",
    "    if si==l:\n",
    "        return -1\n",
    "    if a[si]==x:\n",
    "        return si\n",
    "    smallerListOutput=firstIndex(a,x,si+1)\n",
    "    return smallerListOutput\n",
    "print(firstIndex(a,9,0))"
   ]
  },
  {
   "cell_type": "code",
   "execution_count": 5,
   "id": "2fb1e5e7",
   "metadata": {},
   "outputs": [
    {
     "name": "stdout",
     "output_type": "stream",
     "text": [
      "8\n"
     ]
    }
   ],
   "source": [
    "#to print index value of Last Occurance\n",
    "def lastindex(x,n,z=None):\n",
    "    if z is None:\n",
    "        z=len(x)-1\n",
    "    if z<0:\n",
    "        return -1\n",
    "    elif x[z]==n:\n",
    "        return z\n",
    "    else:\n",
    "        return lastindex(x,n,z-1)\n",
    "print(lastindex([1,2,3,4,5,6,7,8,9],9))"
   ]
  },
  {
   "cell_type": "code",
   "execution_count": null,
   "id": "b925a654",
   "metadata": {},
   "outputs": [],
   "source": [
    "\n"
   ]
  }
 ],
 "metadata": {
  "kernelspec": {
   "display_name": "Python 3 (ipykernel)",
   "language": "python",
   "name": "python3"
  },
  "language_info": {
   "codemirror_mode": {
    "name": "ipython",
    "version": 3
   },
   "file_extension": ".py",
   "mimetype": "text/x-python",
   "name": "python",
   "nbconvert_exporter": "python",
   "pygments_lexer": "ipython3",
   "version": "3.9.13"
  }
 },
 "nbformat": 4,
 "nbformat_minor": 5
}
